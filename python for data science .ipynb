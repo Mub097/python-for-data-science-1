{
 "cells": [
  {
   "cell_type": "code",
   "execution_count": 1,
   "id": "e4e2ace0",
   "metadata": {},
   "outputs": [],
   "source": [
    "mystring = \"my name is usman\""
   ]
  },
  {
   "cell_type": "code",
   "execution_count": 2,
   "id": "7f6aa606",
   "metadata": {},
   "outputs": [
    {
     "data": {
      "text/plain": [
       "'m'"
      ]
     },
     "execution_count": 2,
     "metadata": {},
     "output_type": "execute_result"
    }
   ],
   "source": [
    "mystring[0]"
   ]
  },
  {
   "cell_type": "code",
   "execution_count": 3,
   "id": "e24c6a1b",
   "metadata": {},
   "outputs": [
    {
     "data": {
      "text/plain": [
       "16"
      ]
     },
     "execution_count": 3,
     "metadata": {},
     "output_type": "execute_result"
    }
   ],
   "source": [
    "len(mystring)"
   ]
  },
  {
   "cell_type": "code",
   "execution_count": 4,
   "id": "6bc28d1b",
   "metadata": {},
   "outputs": [
    {
     "data": {
      "text/plain": [
       "'my name is usman'"
      ]
     },
     "execution_count": 4,
     "metadata": {},
     "output_type": "execute_result"
    }
   ],
   "source": [
    "mystring.lower()"
   ]
  },
  {
   "cell_type": "code",
   "execution_count": 5,
   "id": "3955c49a",
   "metadata": {},
   "outputs": [
    {
     "data": {
      "text/plain": [
       "'MY NAME IS USMAN'"
      ]
     },
     "execution_count": 5,
     "metadata": {},
     "output_type": "execute_result"
    }
   ],
   "source": [
    "mystring.upper()"
   ]
  },
  {
   "cell_type": "code",
   "execution_count": 6,
   "id": "10ad465e",
   "metadata": {},
   "outputs": [
    {
     "data": {
      "text/plain": [
       "'ma name is usman'"
      ]
     },
     "execution_count": 6,
     "metadata": {},
     "output_type": "execute_result"
    }
   ],
   "source": [
    "mystring.replace('y','a')"
   ]
  },
  {
   "cell_type": "code",
   "execution_count": null,
   "id": "e74dc82d",
   "metadata": {},
   "outputs": [],
   "source": [
    "#datastructures in python 1. tuples 2. list 3. dictionary 4. sets"
   ]
  },
  {
   "cell_type": "code",
   "execution_count": 12,
   "id": "2259451e",
   "metadata": {},
   "outputs": [],
   "source": [
    "#tupal\n",
    "tp1 = (1,True,\"usman\",21244)"
   ]
  },
  {
   "cell_type": "code",
   "execution_count": 18,
   "id": "48caf36c",
   "metadata": {},
   "outputs": [
    {
     "data": {
      "text/plain": [
       "(True,)"
      ]
     },
     "execution_count": 18,
     "metadata": {},
     "output_type": "execute_result"
    }
   ],
   "source": [
    "tp1[1:2]"
   ]
  },
  {
   "cell_type": "code",
   "execution_count": null,
   "id": "38e056ca",
   "metadata": {},
   "outputs": [],
   "source": [
    "#concatenation and repeating the tuple"
   ]
  },
  {
   "cell_type": "code",
   "execution_count": 21,
   "id": "a3bbe095",
   "metadata": {},
   "outputs": [],
   "source": [
    "tup1 = (1,2,2,3,4)\n",
    "tup2 = (5,6,7,8,9)"
   ]
  },
  {
   "cell_type": "code",
   "execution_count": 22,
   "id": "1e10fc8b",
   "metadata": {},
   "outputs": [
    {
     "data": {
      "text/plain": [
       "(1, 2, 2, 3, 4, 5, 6, 7, 8, 9)"
      ]
     },
     "execution_count": 22,
     "metadata": {},
     "output_type": "execute_result"
    }
   ],
   "source": [
    "tup1+tup2"
   ]
  },
  {
   "cell_type": "code",
   "execution_count": 23,
   "id": "ead86efb",
   "metadata": {},
   "outputs": [
    {
     "data": {
      "text/plain": [
       "(1, 2, 2, 3, 4, 1, 2, 2, 3, 4, 1, 2, 2, 3, 4, 5, 6, 7, 8, 9)"
      ]
     },
     "execution_count": 23,
     "metadata": {},
     "output_type": "execute_result"
    }
   ],
   "source": [
    "tup1*3+tup2"
   ]
  },
  {
   "cell_type": "code",
   "execution_count": 24,
   "id": "0369c106",
   "metadata": {},
   "outputs": [
    {
     "data": {
      "text/plain": [
       "1"
      ]
     },
     "execution_count": 24,
     "metadata": {},
     "output_type": "execute_result"
    }
   ],
   "source": [
    "min(tup1)"
   ]
  },
  {
   "cell_type": "code",
   "execution_count": 25,
   "id": "d5614b0d",
   "metadata": {},
   "outputs": [
    {
     "data": {
      "text/plain": [
       "9"
      ]
     },
     "execution_count": 25,
     "metadata": {},
     "output_type": "execute_result"
    }
   ],
   "source": [
    "max(tup2)"
   ]
  },
  {
   "cell_type": "code",
   "execution_count": null,
   "id": "ac405174",
   "metadata": {},
   "outputs": [],
   "source": [
    "#list"
   ]
  },
  {
   "cell_type": "code",
   "execution_count": 26,
   "id": "ed2973ef",
   "metadata": {},
   "outputs": [],
   "source": [
    "li = [1,\"hi\",\"google\",\"facebook\",2022]"
   ]
  },
  {
   "cell_type": "code",
   "execution_count": 27,
   "id": "c2e7f1da",
   "metadata": {},
   "outputs": [
    {
     "data": {
      "text/plain": [
       "[1, 'hi', 'google', 'facebook', 2022]"
      ]
     },
     "execution_count": 27,
     "metadata": {},
     "output_type": "execute_result"
    }
   ],
   "source": [
    "li"
   ]
  },
  {
   "cell_type": "code",
   "execution_count": 29,
   "id": "f47e3927",
   "metadata": {},
   "outputs": [
    {
     "data": {
      "text/plain": [
       "5"
      ]
     },
     "execution_count": 29,
     "metadata": {},
     "output_type": "execute_result"
    }
   ],
   "source": [
    "len(li)"
   ]
  },
  {
   "cell_type": "code",
   "execution_count": 30,
   "id": "0e1db936",
   "metadata": {},
   "outputs": [
    {
     "data": {
      "text/plain": [
       "1"
      ]
     },
     "execution_count": 30,
     "metadata": {},
     "output_type": "execute_result"
    }
   ],
   "source": [
    "li[0]"
   ]
  },
  {
   "cell_type": "code",
   "execution_count": 31,
   "id": "f2848686",
   "metadata": {},
   "outputs": [
    {
     "data": {
      "text/plain": [
       "2022"
      ]
     },
     "execution_count": 31,
     "metadata": {},
     "output_type": "execute_result"
    }
   ],
   "source": [
    "li[-1]"
   ]
  },
  {
   "cell_type": "code",
   "execution_count": 32,
   "id": "102c6ab8",
   "metadata": {},
   "outputs": [],
   "source": [
    "li[0] = 100"
   ]
  },
  {
   "cell_type": "code",
   "execution_count": 33,
   "id": "d93d9552",
   "metadata": {},
   "outputs": [
    {
     "data": {
      "text/plain": [
       "[100, 'hi', 'google', 'facebook', 2022]"
      ]
     },
     "execution_count": 33,
     "metadata": {},
     "output_type": "execute_result"
    }
   ],
   "source": [
    "li"
   ]
  },
  {
   "cell_type": "code",
   "execution_count": 34,
   "id": "18d2ea46",
   "metadata": {},
   "outputs": [],
   "source": [
    "li.append(\"netflix\")"
   ]
  },
  {
   "cell_type": "code",
   "execution_count": 35,
   "id": "2aaee5b3",
   "metadata": {},
   "outputs": [
    {
     "data": {
      "text/plain": [
       "[100, 'hi', 'google', 'facebook', 2022, 'netflix']"
      ]
     },
     "execution_count": 35,
     "metadata": {},
     "output_type": "execute_result"
    }
   ],
   "source": [
    "li"
   ]
  },
  {
   "cell_type": "code",
   "execution_count": 37,
   "id": "65968f23",
   "metadata": {},
   "outputs": [
    {
     "data": {
      "text/plain": [
       "'hi'"
      ]
     },
     "execution_count": 37,
     "metadata": {},
     "output_type": "execute_result"
    }
   ],
   "source": [
    "li.pop(1)"
   ]
  },
  {
   "cell_type": "code",
   "execution_count": 38,
   "id": "8418bc39",
   "metadata": {},
   "outputs": [
    {
     "data": {
      "text/plain": [
       "[100, 'google', 'facebook', 2022, 'netflix']"
      ]
     },
     "execution_count": 38,
     "metadata": {},
     "output_type": "execute_result"
    }
   ],
   "source": [
    "li"
   ]
  },
  {
   "cell_type": "code",
   "execution_count": 2,
   "id": "56cce099",
   "metadata": {},
   "outputs": [],
   "source": [
    "l2 = [2019,2018,2020]"
   ]
  },
  {
   "cell_type": "code",
   "execution_count": null,
   "id": "7ab090ec",
   "metadata": {},
   "outputs": [],
   "source": [
    "#insert will take two parameters ist index and second the element to insert"
   ]
  },
  {
   "cell_type": "code",
   "execution_count": 4,
   "id": "cf277e5b",
   "metadata": {},
   "outputs": [],
   "source": [
    "l2.insert(3,2019)"
   ]
  },
  {
   "cell_type": "code",
   "execution_count": 5,
   "id": "414caa4c",
   "metadata": {},
   "outputs": [
    {
     "data": {
      "text/plain": [
       "[2019, 2018, 2020, 2019]"
      ]
     },
     "execution_count": 5,
     "metadata": {},
     "output_type": "execute_result"
    }
   ],
   "source": [
    "l2"
   ]
  },
  {
   "cell_type": "code",
   "execution_count": 6,
   "id": "9309a696",
   "metadata": {},
   "outputs": [],
   "source": [
    "l2.sort()"
   ]
  },
  {
   "cell_type": "code",
   "execution_count": 7,
   "id": "97ac6f81",
   "metadata": {},
   "outputs": [
    {
     "data": {
      "text/plain": [
       "[2018, 2019, 2019, 2020]"
      ]
     },
     "execution_count": 7,
     "metadata": {},
     "output_type": "execute_result"
    }
   ],
   "source": [
    "l2"
   ]
  },
  {
   "cell_type": "code",
   "execution_count": 9,
   "id": "52dfcbcb",
   "metadata": {},
   "outputs": [],
   "source": [
    "l2.reverse()"
   ]
  },
  {
   "cell_type": "code",
   "execution_count": 10,
   "id": "8627308c",
   "metadata": {},
   "outputs": [
    {
     "data": {
      "text/plain": [
       "[2020, 2019, 2019, 2018]"
      ]
     },
     "execution_count": 10,
     "metadata": {},
     "output_type": "execute_result"
    }
   ],
   "source": [
    "l2"
   ]
  },
  {
   "cell_type": "code",
   "execution_count": null,
   "id": "3fcb4e5f",
   "metadata": {},
   "outputs": [],
   "source": [
    "#concatenation and repeating the list"
   ]
  },
  {
   "cell_type": "code",
   "execution_count": 12,
   "id": "3702801b",
   "metadata": {},
   "outputs": [
    {
     "data": {
      "text/plain": [
       "[1, 2, 3, 4, 35, 6, 7]"
      ]
     },
     "execution_count": 12,
     "metadata": {},
     "output_type": "execute_result"
    }
   ],
   "source": [
    "li = [1,2,3,4]\n",
    "l2 = [35,6,7,]\n",
    "li+l2"
   ]
  },
  {
   "cell_type": "code",
   "execution_count": 13,
   "id": "13015856",
   "metadata": {},
   "outputs": [
    {
     "data": {
      "text/plain": [
       "[1, 2, 3, 4, 1, 2, 3, 4, 1, 2, 3, 4]"
      ]
     },
     "execution_count": 13,
     "metadata": {},
     "output_type": "execute_result"
    }
   ],
   "source": [
    "li*3"
   ]
  },
  {
   "cell_type": "code",
   "execution_count": 14,
   "id": "1850fa8e",
   "metadata": {},
   "outputs": [
    {
     "data": {
      "text/plain": [
       "[35, 6, 7, 35, 6, 7, 35, 6, 7]"
      ]
     },
     "execution_count": 14,
     "metadata": {},
     "output_type": "execute_result"
    }
   ],
   "source": [
    "l2*3"
   ]
  },
  {
   "cell_type": "code",
   "execution_count": null,
   "id": "3da0c0ed",
   "metadata": {},
   "outputs": [],
   "source": [
    "#dictionary start with curly braces key pair value key is in \"\"and value :"
   ]
  },
  {
   "cell_type": "code",
   "execution_count": 15,
   "id": "9ef7ad7d",
   "metadata": {},
   "outputs": [],
   "source": [
    "di = {\"apple\":150,\"banana\":60,\"orange\":90}"
   ]
  },
  {
   "cell_type": "code",
   "execution_count": 16,
   "id": "8562cbb3",
   "metadata": {},
   "outputs": [
    {
     "data": {
      "text/plain": [
       "{'apple': 150, 'banana': 60, 'orange': 90}"
      ]
     },
     "execution_count": 16,
     "metadata": {},
     "output_type": "execute_result"
    }
   ],
   "source": [
    "di"
   ]
  },
  {
   "cell_type": "code",
   "execution_count": null,
   "id": "bd1378a6",
   "metadata": {},
   "outputs": [],
   "source": [
    "#extracting keys and values"
   ]
  },
  {
   "cell_type": "code",
   "execution_count": 17,
   "id": "57a8746e",
   "metadata": {},
   "outputs": [
    {
     "data": {
      "text/plain": [
       "dict_keys(['apple', 'banana', 'orange'])"
      ]
     },
     "execution_count": 17,
     "metadata": {},
     "output_type": "execute_result"
    }
   ],
   "source": [
    "di.keys()"
   ]
  },
  {
   "cell_type": "code",
   "execution_count": 18,
   "id": "3c339a60",
   "metadata": {},
   "outputs": [
    {
     "data": {
      "text/plain": [
       "dict_values([150, 60, 90])"
      ]
     },
     "execution_count": 18,
     "metadata": {},
     "output_type": "execute_result"
    }
   ],
   "source": [
    "di.values()"
   ]
  },
  {
   "cell_type": "code",
   "execution_count": null,
   "id": "83542bb0",
   "metadata": {},
   "outputs": [],
   "source": [
    "#modify a dictionary add or changing existing values"
   ]
  },
  {
   "cell_type": "code",
   "execution_count": 21,
   "id": "7a0cc01e",
   "metadata": {},
   "outputs": [
    {
     "data": {
      "text/plain": [
       "{'apple': 150, 'banana': 60, 'orange': 90}"
      ]
     },
     "execution_count": 21,
     "metadata": {},
     "output_type": "execute_result"
    }
   ],
   "source": [
    "di"
   ]
  },
  {
   "cell_type": "code",
   "execution_count": 22,
   "id": "6f487713",
   "metadata": {},
   "outputs": [],
   "source": [
    "di[\"mango\"]=150"
   ]
  },
  {
   "cell_type": "code",
   "execution_count": 23,
   "id": "3e718675",
   "metadata": {},
   "outputs": [
    {
     "data": {
      "text/plain": [
       "{'apple': 150, 'banana': 60, 'orange': 90, 'mango': 150}"
      ]
     },
     "execution_count": 23,
     "metadata": {},
     "output_type": "execute_result"
    }
   ],
   "source": [
    "di"
   ]
  },
  {
   "cell_type": "code",
   "execution_count": null,
   "id": "656a0e2c",
   "metadata": {},
   "outputs": [],
   "source": [
    "#updating a dictionary"
   ]
  },
  {
   "cell_type": "code",
   "execution_count": 24,
   "id": "0883fe0f",
   "metadata": {},
   "outputs": [
    {
     "data": {
      "text/plain": [
       "{'strawaberry': 400, 'guava': 70, 'grapes': 200}"
      ]
     },
     "execution_count": 24,
     "metadata": {},
     "output_type": "execute_result"
    }
   ],
   "source": [
    "d2 = {\"strawaberry\":400,\"guava\":70,\"grapes\":200}\n",
    "d2"
   ]
  },
  {
   "cell_type": "code",
   "execution_count": 25,
   "id": "20be3fa0",
   "metadata": {},
   "outputs": [],
   "source": [
    "di.update(d2)"
   ]
  },
  {
   "cell_type": "code",
   "execution_count": 26,
   "id": "dc4e0957",
   "metadata": {},
   "outputs": [
    {
     "data": {
      "text/plain": [
       "{'apple': 150,\n",
       " 'banana': 60,\n",
       " 'orange': 90,\n",
       " 'mango': 150,\n",
       " 'strawaberry': 400,\n",
       " 'guava': 70,\n",
       " 'grapes': 200}"
      ]
     },
     "execution_count": 26,
     "metadata": {},
     "output_type": "execute_result"
    }
   ],
   "source": [
    "di"
   ]
  },
  {
   "cell_type": "code",
   "execution_count": 27,
   "id": "ea738bb1",
   "metadata": {},
   "outputs": [
    {
     "data": {
      "text/plain": [
       "90"
      ]
     },
     "execution_count": 27,
     "metadata": {},
     "output_type": "execute_result"
    }
   ],
   "source": [
    "di.pop(\"orange\")"
   ]
  },
  {
   "cell_type": "code",
   "execution_count": 28,
   "id": "db14f3a3",
   "metadata": {},
   "outputs": [
    {
     "data": {
      "text/plain": [
       "{'apple': 150,\n",
       " 'banana': 60,\n",
       " 'mango': 150,\n",
       " 'strawaberry': 400,\n",
       " 'guava': 70,\n",
       " 'grapes': 200}"
      ]
     },
     "execution_count": 28,
     "metadata": {},
     "output_type": "execute_result"
    }
   ],
   "source": [
    "di"
   ]
  },
  {
   "cell_type": "code",
   "execution_count": 29,
   "id": "4e8564ac",
   "metadata": {},
   "outputs": [
    {
     "data": {
      "text/plain": [
       "{'apple': 150,\n",
       " 'banana': 60,\n",
       " 'mango': 150,\n",
       " 'strawaberry': 400,\n",
       " 'guava': 70,\n",
       " 'grapes': 200,\n",
       " 'orange': 90}"
      ]
     },
     "execution_count": 29,
     "metadata": {},
     "output_type": "execute_result"
    }
   ],
   "source": [
    "di[\"orange\"]=90\n",
    "di"
   ]
  },
  {
   "cell_type": "code",
   "execution_count": null,
   "id": "831cc83d",
   "metadata": {},
   "outputs": [],
   "source": [
    "#Sets is unordred and unindexed , cant allow duplicates"
   ]
  },
  {
   "cell_type": "code",
   "execution_count": 30,
   "id": "c4b8e81f",
   "metadata": {},
   "outputs": [
    {
     "data": {
      "text/plain": [
       "{1, 2, 'usman'}"
      ]
     },
     "execution_count": 30,
     "metadata": {},
     "output_type": "execute_result"
    }
   ],
   "source": [
    "s1 = {1,2,\"usman\"}\n",
    "s1"
   ]
  },
  {
   "cell_type": "code",
   "execution_count": 31,
   "id": "2f8e993e",
   "metadata": {},
   "outputs": [
    {
     "data": {
      "text/plain": [
       "{1, 2, 'usman'}"
      ]
     },
     "execution_count": 31,
     "metadata": {},
     "output_type": "execute_result"
    }
   ],
   "source": [
    "s1 = {1,2,\"usman\",\"usman\"}\n",
    "s1"
   ]
  },
  {
   "cell_type": "code",
   "execution_count": null,
   "id": "dd03d9d4",
   "metadata": {},
   "outputs": [],
   "source": [
    "#adding,removing and updating set"
   ]
  },
  {
   "cell_type": "code",
   "execution_count": 32,
   "id": "d8f43eae",
   "metadata": {},
   "outputs": [
    {
     "data": {
      "text/plain": [
       "{1, 2, 'hello', 'usman'}"
      ]
     },
     "execution_count": 32,
     "metadata": {},
     "output_type": "execute_result"
    }
   ],
   "source": [
    "s1.add(\"hello\")\n",
    "s1"
   ]
  },
  {
   "cell_type": "code",
   "execution_count": 33,
   "id": "f09210c3",
   "metadata": {},
   "outputs": [
    {
     "data": {
      "text/plain": [
       "{1, 2, 'hello'}"
      ]
     },
     "execution_count": 33,
     "metadata": {},
     "output_type": "execute_result"
    }
   ],
   "source": [
    "s1.remove(\"usman\")\n",
    "s1"
   ]
  },
  {
   "cell_type": "code",
   "execution_count": 35,
   "id": "f7e9a0a6",
   "metadata": {},
   "outputs": [
    {
     "data": {
      "text/plain": [
       "{1, 2, 'a', 'hello', 'm', 'n', 's', 'u', 'usman'}"
      ]
     },
     "execution_count": 35,
     "metadata": {},
     "output_type": "execute_result"
    }
   ],
   "source": [
    "s1.update(\"usman\")\n",
    "s1"
   ]
  },
  {
   "cell_type": "code",
   "execution_count": 36,
   "id": "3a099e70",
   "metadata": {},
   "outputs": [],
   "source": [
    "#union and intersection "
   ]
  },
  {
   "cell_type": "code",
   "execution_count": 38,
   "id": "c2c458be",
   "metadata": {},
   "outputs": [
    {
     "data": {
      "text/plain": [
       "{'canada', 'dubai', 'usa'}"
      ]
     },
     "execution_count": 38,
     "metadata": {},
     "output_type": "execute_result"
    }
   ],
   "source": [
    "s2 = {\"dubai\",\"canada\",\"usa\"}\n",
    "s2"
   ]
  },
  {
   "cell_type": "code",
   "execution_count": 39,
   "id": "d55f9841",
   "metadata": {},
   "outputs": [
    {
     "data": {
      "text/plain": [
       "{1, 2, 'a', 'hello', 'm', 'n', 's', 'u', 'usman'}"
      ]
     },
     "execution_count": 39,
     "metadata": {},
     "output_type": "execute_result"
    }
   ],
   "source": [
    "s1"
   ]
  },
  {
   "cell_type": "code",
   "execution_count": 40,
   "id": "6658b900",
   "metadata": {},
   "outputs": [
    {
     "data": {
      "text/plain": [
       "{1, 2, 'a', 'canada', 'dubai', 'hello', 'm', 'n', 's', 'u', 'usa', 'usman'}"
      ]
     },
     "execution_count": 40,
     "metadata": {},
     "output_type": "execute_result"
    }
   ],
   "source": [
    "s1.union(s2)"
   ]
  },
  {
   "cell_type": "code",
   "execution_count": 41,
   "id": "125a2c23",
   "metadata": {},
   "outputs": [
    {
     "data": {
      "text/plain": [
       "set()"
      ]
     },
     "execution_count": 41,
     "metadata": {},
     "output_type": "execute_result"
    }
   ],
   "source": [
    "s1.intersection(s2)"
   ]
  },
  {
   "cell_type": "code",
   "execution_count": null,
   "id": "c79c1bfb",
   "metadata": {},
   "outputs": [],
   "source": [
    "#decision making statements"
   ]
  },
  {
   "cell_type": "code",
   "execution_count": 42,
   "id": "3143fd1c",
   "metadata": {},
   "outputs": [],
   "source": [
    "a = 10 \n",
    "b = 20 \n",
    "c = 30 "
   ]
  },
  {
   "cell_type": "code",
   "execution_count": 47,
   "id": "b95f1750",
   "metadata": {},
   "outputs": [
    {
     "name": "stdout",
     "output_type": "stream",
     "text": [
      "c is the greatest\n"
     ]
    }
   ],
   "source": [
    "if (a>b) & (a>c):\n",
    "    print(\"a is greatest\")\n",
    "elif (b>a) & (b>c):\n",
    "    print(\"b is the biggest\")\n",
    "else: \n",
    "    print(\"c is the greatest\")"
   ]
  },
  {
   "cell_type": "code",
   "execution_count": null,
   "id": "2e549a44",
   "metadata": {},
   "outputs": [],
   "source": [
    "#if in tuole\n"
   ]
  },
  {
   "cell_type": "code",
   "execution_count": 57,
   "id": "c5a261e6",
   "metadata": {},
   "outputs": [
    {
     "data": {
      "text/plain": [
       "('a', 'b', 'c', 5)"
      ]
     },
     "execution_count": 57,
     "metadata": {},
     "output_type": "execute_result"
    }
   ],
   "source": [
    "tup3 = (\"a\",\"b\",\"c\",5)\n",
    "tup3"
   ]
  },
  {
   "cell_type": "code",
   "execution_count": 58,
   "id": "ea7401bd",
   "metadata": {},
   "outputs": [
    {
     "name": "stdout",
     "output_type": "stream",
     "text": [
      "yes its there\n"
     ]
    }
   ],
   "source": [
    "if 5 in tup3:\n",
    "    print(\"yes its there\")\n",
    "else:\n",
    "    print(\"value is not there\")"
   ]
  },
  {
   "cell_type": "code",
   "execution_count": null,
   "id": "492ae36d",
   "metadata": {},
   "outputs": [],
   "source": [
    "#if with list"
   ]
  },
  {
   "cell_type": "code",
   "execution_count": 2,
   "id": "8fef327e",
   "metadata": {},
   "outputs": [],
   "source": [
    "li = [\"a\",\"b\",\"c\",\"d\"]"
   ]
  },
  {
   "cell_type": "code",
   "execution_count": 3,
   "id": "443f0161",
   "metadata": {},
   "outputs": [],
   "source": [
    "if li[1]==\"b\":\n",
    "    li[1]=\"z\"\n",
    "    li"
   ]
  },
  {
   "cell_type": "code",
   "execution_count": 4,
   "id": "feb81dd7",
   "metadata": {},
   "outputs": [
    {
     "data": {
      "text/plain": [
       "['a', 'z', 'c', 'd']"
      ]
     },
     "execution_count": 4,
     "metadata": {},
     "output_type": "execute_result"
    }
   ],
   "source": [
    "li"
   ]
  },
  {
   "cell_type": "code",
   "execution_count": 5,
   "id": "00c64740",
   "metadata": {},
   "outputs": [],
   "source": [
    "#if with dictionary"
   ]
  },
  {
   "cell_type": "code",
   "execution_count": 6,
   "id": "16ac0d00",
   "metadata": {},
   "outputs": [
    {
     "data": {
      "text/plain": [
       "{'usman': 21244, 'umair': 181513, 'suliman': 186174}"
      ]
     },
     "execution_count": 6,
     "metadata": {},
     "output_type": "execute_result"
    }
   ],
   "source": [
    "rn = {\"usman\":21244,\"umair\":181513,\"suliman\":186174}\n",
    "rn"
   ]
  },
  {
   "cell_type": "code",
   "execution_count": 15,
   "id": "74386674",
   "metadata": {},
   "outputs": [
    {
     "name": "stdout",
     "output_type": "stream",
     "text": [
      "its a correct rn\n"
     ]
    }
   ],
   "source": [
    "if rn[\"umair\"] == 181513:\n",
    "    print(\"its a correct rn\")\n",
    "else:\n",
    "    print(\"wrong number\")"
   ]
  },
  {
   "cell_type": "code",
   "execution_count": 16,
   "id": "79e169e5",
   "metadata": {},
   "outputs": [],
   "source": [
    "#lopin statements"
   ]
  },
  {
   "cell_type": "code",
   "execution_count": 20,
   "id": "47965d5d",
   "metadata": {},
   "outputs": [
    {
     "name": "stdout",
     "output_type": "stream",
     "text": [
      "1\n",
      "2\n",
      "3\n",
      "4\n",
      "5\n",
      "6\n",
      "7\n",
      "8\n",
      "9\n",
      "10\n"
     ]
    }
   ],
   "source": [
    "i = 1\n",
    "while i<=10:\n",
    "    print(i)\n",
    "    i=i+1"
   ]
  },
  {
   "cell_type": "code",
   "execution_count": 2,
   "id": "8bd1a312",
   "metadata": {},
   "outputs": [
    {
     "name": "stdout",
     "output_type": "stream",
     "text": [
      "2 * 1 = 2\n",
      "2 * 2 = 4\n",
      "2 * 3 = 6\n",
      "2 * 4 = 8\n",
      "2 * 5 = 10\n",
      "2 * 6 = 12\n",
      "2 * 7 = 14\n",
      "2 * 8 = 16\n",
      "2 * 9 = 18\n",
      "2 * 10 = 20\n"
     ]
    }
   ],
   "source": [
    "i=1\n",
    "n=2\n",
    "while i<=10:\n",
    "    print(n,\"*\",i,\"=\",n*i)\n",
    "    i=i+1"
   ]
  },
  {
   "cell_type": "code",
   "execution_count": null,
   "id": "37df49da",
   "metadata": {},
   "outputs": [],
   "source": [
    "#for loop in list"
   ]
  },
  {
   "cell_type": "code",
   "execution_count": 2,
   "id": "7ac605d1",
   "metadata": {},
   "outputs": [],
   "source": [
    "li = [\"mango\",\"apple\",\"orange\",\"grapes\"]"
   ]
  },
  {
   "cell_type": "code",
   "execution_count": 3,
   "id": "2b69a4c0",
   "metadata": {},
   "outputs": [
    {
     "name": "stdout",
     "output_type": "stream",
     "text": [
      "mango\n",
      "apple\n",
      "orange\n",
      "grapes\n"
     ]
    }
   ],
   "source": [
    "for i in li:\n",
    "    print(i)"
   ]
  },
  {
   "cell_type": "code",
   "execution_count": 4,
   "id": "f984c113",
   "metadata": {},
   "outputs": [],
   "source": [
    "#functions in python   use def keyword and :"
   ]
  },
  {
   "cell_type": "code",
   "execution_count": 5,
   "id": "2600b2cb",
   "metadata": {},
   "outputs": [],
   "source": [
    "def hell ():\n",
    "    print(\"i was expecting you\")"
   ]
  },
  {
   "cell_type": "code",
   "execution_count": 7,
   "id": "7f643478",
   "metadata": {},
   "outputs": [
    {
     "name": "stdout",
     "output_type": "stream",
     "text": [
      "i was expecting you\n"
     ]
    }
   ],
   "source": [
    "hell()"
   ]
  },
  {
   "cell_type": "code",
   "execution_count": 19,
   "id": "dd5e1491",
   "metadata": {},
   "outputs": [],
   "source": [
    "def even_odd(x):\n",
    "    if x%2==0:\n",
    "        print(x,\"is even\")\n",
    "    else:\n",
    "        print(x,\"is odd\")"
   ]
  },
  {
   "cell_type": "code",
   "execution_count": 20,
   "id": "d25146e8",
   "metadata": {},
   "outputs": [
    {
     "name": "stdout",
     "output_type": "stream",
     "text": [
      "6 is even\n"
     ]
    }
   ],
   "source": [
    "even_odd(6)"
   ]
  },
  {
   "cell_type": "code",
   "execution_count": 21,
   "id": "107889f3",
   "metadata": {},
   "outputs": [],
   "source": [
    "#lambda"
   ]
  },
  {
   "cell_type": "code",
   "execution_count": 22,
   "id": "535a06e4",
   "metadata": {},
   "outputs": [],
   "source": [
    "g=lambda x: x*x*x"
   ]
  },
  {
   "cell_type": "code",
   "execution_count": 23,
   "id": "21356881",
   "metadata": {},
   "outputs": [
    {
     "data": {
      "text/plain": [
       "216"
      ]
     },
     "execution_count": 23,
     "metadata": {},
     "output_type": "execute_result"
    }
   ],
   "source": [
    "g(6)"
   ]
  },
  {
   "cell_type": "code",
   "execution_count": 24,
   "id": "6a88fe12",
   "metadata": {},
   "outputs": [],
   "source": [
    "#lambda with filter"
   ]
  },
  {
   "cell_type": "code",
   "execution_count": 14,
   "id": "b0b96894",
   "metadata": {},
   "outputs": [
    {
     "data": {
      "text/plain": [
       "[2, 4, 6, 8]"
      ]
     },
     "execution_count": 14,
     "metadata": {},
     "output_type": "execute_result"
    }
   ],
   "source": [
    "li = [2,4,6,1,3,7,8,]\n",
    "list(filter(lambda x: (x%2==0) ,li))"
   ]
  },
  {
   "cell_type": "code",
   "execution_count": null,
   "id": "6ce6727a",
   "metadata": {},
   "outputs": [],
   "source": [
    "#lambda with map"
   ]
  },
  {
   "cell_type": "code",
   "execution_count": 16,
   "id": "f2b6ff51",
   "metadata": {},
   "outputs": [
    {
     "data": {
      "text/plain": [
       "[2, 4, 6, 8, 10, 12, 14, 16, 18, 20]"
      ]
     },
     "execution_count": 16,
     "metadata": {},
     "output_type": "execute_result"
    }
   ],
   "source": [
    "li = [1,2,3,4,5,6,7,8,9,10]\n",
    "list(map(lambda x: x*2,li)) "
   ]
  },
  {
   "cell_type": "code",
   "execution_count": null,
   "id": "0236429e",
   "metadata": {},
   "outputs": [],
   "source": [
    "#lambda with reduce"
   ]
  },
  {
   "cell_type": "code",
   "execution_count": 17,
   "id": "c1cb1407",
   "metadata": {},
   "outputs": [],
   "source": [
    "from functools import reduce"
   ]
  },
  {
   "cell_type": "code",
   "execution_count": 18,
   "id": "c7a52743",
   "metadata": {},
   "outputs": [],
   "source": [
    "sum=reduce(lambda x,y: x+y,li)"
   ]
  },
  {
   "cell_type": "code",
   "execution_count": 19,
   "id": "7f7853de",
   "metadata": {},
   "outputs": [
    {
     "data": {
      "text/plain": [
       "55"
      ]
     },
     "execution_count": 19,
     "metadata": {},
     "output_type": "execute_result"
    }
   ],
   "source": [
    "sum"
   ]
  },
  {
   "cell_type": "code",
   "execution_count": 20,
   "id": "d44fa8ce",
   "metadata": {},
   "outputs": [],
   "source": [
    "#OOps in python"
   ]
  },
  {
   "cell_type": "code",
   "execution_count": 23,
   "id": "ed1f47a7",
   "metadata": {},
   "outputs": [],
   "source": [
    "class Phone:\n",
    "    def make_calls(self):\n",
    "        print(\"making calls\")\n",
    "    def play_games(self):\n",
    "        print(\"playing games\")"
   ]
  },
  {
   "cell_type": "code",
   "execution_count": 24,
   "id": "1e2c5522",
   "metadata": {},
   "outputs": [],
   "source": [
    "p1 = Phone()"
   ]
  },
  {
   "cell_type": "code",
   "execution_count": 25,
   "id": "398d05f8",
   "metadata": {},
   "outputs": [
    {
     "name": "stdout",
     "output_type": "stream",
     "text": [
      "making calls\n"
     ]
    }
   ],
   "source": [
    "p1.make_calls()"
   ]
  },
  {
   "cell_type": "code",
   "execution_count": 6,
   "id": "a180150f",
   "metadata": {},
   "outputs": [],
   "source": [
    "class Phone:\n",
    "    def set_colour(self,colour):\n",
    "        self.colour=colour\n",
    "def set_cost(self,cost):\n",
    "        self.cost=cost\n",
    "def show_colour(self):\n",
    "    return self.colour\n",
    "def show_cost(self):\n",
    "    return self.cost\n"
   ]
  },
  {
   "cell_type": "code",
   "execution_count": 2,
   "id": "9c5e1e09",
   "metadata": {},
   "outputs": [
    {
     "ename": "NameError",
     "evalue": "name 'Phone' is not defined",
     "output_type": "error",
     "traceback": [
      "\u001b[0;31m---------------------------------------------------------------------------\u001b[0m",
      "\u001b[0;31mNameError\u001b[0m                                 Traceback (most recent call last)",
      "\u001b[0;32m/tmp/ipykernel_9522/4221253627.py\u001b[0m in \u001b[0;36m<module>\u001b[0;34m\u001b[0m\n\u001b[0;32m----> 1\u001b[0;31m \u001b[0mp2\u001b[0m \u001b[0;34m=\u001b[0m \u001b[0mPhone\u001b[0m\u001b[0;34m(\u001b[0m\u001b[0;34m)\u001b[0m\u001b[0;34m\u001b[0m\u001b[0;34m\u001b[0m\u001b[0m\n\u001b[0m",
      "\u001b[0;31mNameError\u001b[0m: name 'Phone' is not defined"
     ]
    }
   ],
   "source": [
    "p2 = Phone()"
   ]
  },
  {
   "cell_type": "code",
   "execution_count": 8,
   "id": "a4ae9388",
   "metadata": {},
   "outputs": [],
   "source": [
    "p2.set_colour(\"black\")"
   ]
  },
  {
   "cell_type": "code",
   "execution_count": 1,
   "id": "2a7c9308",
   "metadata": {},
   "outputs": [
    {
     "ename": "NameError",
     "evalue": "name 'p2' is not defined",
     "output_type": "error",
     "traceback": [
      "\u001b[0;31m---------------------------------------------------------------------------\u001b[0m",
      "\u001b[0;31mNameError\u001b[0m                                 Traceback (most recent call last)",
      "\u001b[0;32m/tmp/ipykernel_9522/923763729.py\u001b[0m in \u001b[0;36m<module>\u001b[0;34m\u001b[0m\n\u001b[0;32m----> 1\u001b[0;31m \u001b[0mp2\u001b[0m\u001b[0;34m.\u001b[0m\u001b[0mshow_colour\u001b[0m\u001b[0;34m(\u001b[0m\u001b[0;34m)\u001b[0m\u001b[0;34m\u001b[0m\u001b[0;34m\u001b[0m\u001b[0m\n\u001b[0m",
      "\u001b[0;31mNameError\u001b[0m: name 'p2' is not defined"
     ]
    }
   ],
   "source": [
    "p2.show_colour()"
   ]
  },
  {
   "cell_type": "code",
   "execution_count": null,
   "id": "ceaf8f0c",
   "metadata": {},
   "outputs": [],
   "source": []
  }
 ],
 "metadata": {
  "kernelspec": {
   "display_name": "Python 3 (ipykernel)",
   "language": "python",
   "name": "python3"
  },
  "language_info": {
   "codemirror_mode": {
    "name": "ipython",
    "version": 3
   },
   "file_extension": ".py",
   "mimetype": "text/x-python",
   "name": "python",
   "nbconvert_exporter": "python",
   "pygments_lexer": "ipython3",
   "version": "3.9.7"
  }
 },
 "nbformat": 4,
 "nbformat_minor": 5
}
